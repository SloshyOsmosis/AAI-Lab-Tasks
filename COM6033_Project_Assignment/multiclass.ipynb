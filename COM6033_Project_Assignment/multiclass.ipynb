{
 "cells": [
  {
   "cell_type": "code",
   "execution_count": 1,
   "metadata": {},
   "outputs": [],
   "source": [
    "import os\n",
    "import numpy as np\n",
    "import tensorflow as tf\n"
   ]
  },
  {
   "cell_type": "code",
   "execution_count": 2,
   "metadata": {},
   "outputs": [
    {
     "name": "stdout",
     "output_type": "stream",
     "text": [
      "Generated 200 augmented images.\n"
     ]
    }
   ],
   "source": [
    "from tensorflow.keras.preprocessing.image import ImageDataGenerator ,load_img, img_to_array\n",
    "import random\n",
    "\n",
    "dataGen = ImageDataGenerator(\n",
    "    rotation_range=20,\n",
    "    width_shift_range=0.1,\n",
    "    height_shift_range=0.1,\n",
    "    shear_range=0.2,\n",
    "    zoom_range=0.2,\n",
    "    horizontal_flip=True,\n",
    "    vertical_flip=True,\n",
    "    fill_mode='nearest'\n",
    ")\n",
    "\n",
    "#Identify folder path\n",
    "folder_path = 'BirdImages/Sparrow/'\n",
    "augmented_folder = 'BirdImages/Sparrow/Augmented/'\n",
    "\n",
    "os.makedirs(augmented_folder, exist_ok=True)\n",
    "\n",
    "#Listing images labeled with 'jpg' in the sparrow folder\n",
    "image_files = [f for f in os.listdir(folder_path) if f.endswith('.jpg')]\n",
    "\n",
    "#Randomly selects images for augmentation\n",
    "selected_images = random.sample(image_files, 20)\n",
    "\n",
    "augmented_images_count=0\n",
    "\n",
    "for image_file in selected_images:\n",
    "    img_path = os.path.join(folder_path,image_file)\n",
    "    img = load_img(img_path)\n",
    "    img = img_to_array(img) \n",
    "    img = img.reshape((1,) + img.shape)\n",
    "    augmented_images = []\n",
    "    for batch in dataGen.flow(img, batch_size=1, save_to_dir=augmented_folder, save_format='jpg'):\n",
    "        augmented_images.append(batch[0].astype('uint8'))\n",
    "        augmented_images_count +=1\n",
    "        if len(augmented_images) >=200:\n",
    "            break\n",
    "    if augmented_images_count>=200:\n",
    "        break\n",
    "\n",
    "print(f\"Generated {augmented_images_count} augmented images.\")"
   ]
  },
  {
   "cell_type": "code",
   "execution_count": 3,
   "metadata": {},
   "outputs": [
    {
     "ename": "",
     "evalue": "",
     "output_type": "error",
     "traceback": [
      "\u001b[1;31mThe Kernel crashed while executing code in the current cell or a previous cell. \n",
      "\u001b[1;31mPlease review the code in the cell(s) to identify a possible cause of the failure. \n",
      "\u001b[1;31mClick <a href='https://aka.ms/vscodeJupyterKernelCrash'>here</a> for more info. \n",
      "\u001b[1;31mView Jupyter <a href='command:jupyter.viewOutput'>log</a> for further details."
     ]
    }
   ],
   "source": [
    "train_ds = tf.keras.preprocessing.image_dataset_from_directory(\n",
    "    'BirdImages/',\n",
    "    validation_split = 0.2,\n",
    "    subset = \"training\",\n",
    "    seed = 1337,\n",
    "    image_size=(128,128),\n",
    "    batch_size=32\n",
    ")\n",
    "train_ds_augmented = tf.keras.preprocessing.image_dataset_from_directory(\n",
    "    'BirdImages/Augmented',\n",
    "    subset = \"training\",\n",
    "    image_size=(128,128),\n",
    "    batch_size=32\n",
    ")\n",
    "\n",
    "combined_train_ds = train_ds.concatenate(train_ds_augmented)\n",
    "\n",
    "val_ds = tf.keras.preprocessing.image_dataset_from_directory(\n",
    "    'BirdImages/',\n",
    "    validation_split = 0.2,\n",
    "    subset = \"validation\",\n",
    "    seed = 1337,\n",
    "    image_size=(128,128),\n",
    "    batch_size=32\n",
    ")"
   ]
  },
  {
   "cell_type": "code",
   "execution_count": 3,
   "metadata": {},
   "outputs": [
    {
     "name": "stdout",
     "output_type": "stream",
     "text": [
      "Model: \"sequential\"\n",
      "_________________________________________________________________\n",
      " Layer (type)                Output Shape              Param #   \n",
      "=================================================================\n",
      " conv2d (Conv2D)             (None, 126, 126, 32)      896       \n",
      "                                                                 \n",
      " max_pooling2d (MaxPooling2D  (None, 63, 63, 32)       0         \n",
      " )                                                               \n",
      "                                                                 \n",
      " conv2d_1 (Conv2D)           (None, 61, 61, 64)        18496     \n",
      "                                                                 \n",
      " max_pooling2d_1 (MaxPooling  (None, 30, 30, 64)       0         \n",
      " 2D)                                                             \n",
      "                                                                 \n",
      " conv2d_2 (Conv2D)           (None, 28, 28, 64)        36928     \n",
      "                                                                 \n",
      " max_pooling2d_2 (MaxPooling  (None, 14, 14, 64)       0         \n",
      " 2D)                                                             \n",
      "                                                                 \n",
      " flatten (Flatten)           (None, 12544)             0         \n",
      "                                                                 \n",
      " dense (Dense)               (None, 128)               1605760   \n",
      "                                                                 \n",
      " dropout (Dropout)           (None, 128)               0         \n",
      "                                                                 \n",
      " dense_1 (Dense)             (None, 5)                 645       \n",
      "                                                                 \n",
      "=================================================================\n",
      "Total params: 1,662,725\n",
      "Trainable params: 1,662,725\n",
      "Non-trainable params: 0\n",
      "_________________________________________________________________\n"
     ]
    }
   ],
   "source": [
    "from tensorflow.keras.models import Sequential\n",
    "from tensorflow.keras.layers import Conv2D, MaxPooling2D, Flatten, Dense, Dropout\n",
    "\n",
    "model = Sequential([\n",
    "    Conv2D(32,(3,3), activation = 'relu', input_shape=(128,128,3)),\n",
    "    MaxPooling2D(2,2),\n",
    "    \n",
    "    Conv2D(64, (3, 3), activation='relu'),\n",
    "    MaxPooling2D(2, 2),\n",
    "\n",
    "    Conv2D(64, (3, 3), activation='relu'),\n",
    "    MaxPooling2D(2, 2),\n",
    "\n",
    "    Flatten(),\n",
    "\n",
    "    Dense(128, activation='relu'),\n",
    "    Dropout(0.5),\n",
    "\n",
    "    Dense(5 , activation='softmax')\n",
    "])\n",
    "\n",
    "model.compile(\n",
    "    optimizer = 'adam',\n",
    "    loss = 'sparse_categorical_crossentropy',\n",
    "    metrics = ['accuracy']\n",
    ")\n",
    "\n",
    "model.summary()"
   ]
  },
  {
   "cell_type": "code",
   "execution_count": 4,
   "metadata": {},
   "outputs": [
    {
     "name": "stdout",
     "output_type": "stream",
     "text": [
      "Epoch 1/25\n",
      "156/156 [==============================] - 47s 290ms/step - loss: 5.2632 - accuracy: 0.3113 - val_loss: 1.4328 - val_accuracy: 0.3599\n",
      "Epoch 2/25\n",
      "156/156 [==============================] - 38s 243ms/step - loss: 1.4290 - accuracy: 0.3652 - val_loss: 1.4354 - val_accuracy: 0.3680\n",
      "Epoch 3/25\n",
      "156/156 [==============================] - 42s 271ms/step - loss: 1.3918 - accuracy: 0.3922 - val_loss: 1.4008 - val_accuracy: 0.3736\n",
      "Epoch 4/25\n",
      "156/156 [==============================] - 47s 304ms/step - loss: 1.3364 - accuracy: 0.4233 - val_loss: 1.4114 - val_accuracy: 0.3994\n",
      "Epoch 5/25\n",
      "156/156 [==============================] - 59s 380ms/step - loss: 1.2614 - accuracy: 0.4575 - val_loss: 1.4150 - val_accuracy: 0.3857\n",
      "Epoch 6/25\n",
      "156/156 [==============================] - 60s 383ms/step - loss: 1.2267 - accuracy: 0.4771 - val_loss: 1.4578 - val_accuracy: 0.3921\n",
      "Epoch 7/25\n",
      "156/156 [==============================] - 69s 440ms/step - loss: 1.1474 - accuracy: 0.4986 - val_loss: 1.4550 - val_accuracy: 0.4195\n",
      "Epoch 8/25\n",
      "156/156 [==============================] - 54s 344ms/step - loss: 1.0962 - accuracy: 0.5431 - val_loss: 1.3634 - val_accuracy: 0.5306\n",
      "Epoch 9/25\n",
      "156/156 [==============================] - 40s 254ms/step - loss: 1.0501 - accuracy: 0.5740 - val_loss: 1.4899 - val_accuracy: 0.4614\n",
      "Epoch 10/25\n",
      "156/156 [==============================] - 38s 241ms/step - loss: 0.9565 - accuracy: 0.6181 - val_loss: 1.3178 - val_accuracy: 0.5403\n",
      "Epoch 11/25\n",
      "156/156 [==============================] - 40s 256ms/step - loss: 0.8947 - accuracy: 0.6535 - val_loss: 1.3190 - val_accuracy: 0.5620\n",
      "Epoch 12/25\n",
      "156/156 [==============================] - 44s 279ms/step - loss: 0.7680 - accuracy: 0.7066 - val_loss: 1.3929 - val_accuracy: 0.5499\n",
      "Epoch 13/25\n",
      "156/156 [==============================] - 47s 303ms/step - loss: 0.7353 - accuracy: 0.7249 - val_loss: 1.2261 - val_accuracy: 0.5998\n",
      "Epoch 14/25\n",
      "156/156 [==============================] - 41s 259ms/step - loss: 0.6805 - accuracy: 0.7451 - val_loss: 1.3067 - val_accuracy: 0.6079\n",
      "Epoch 15/25\n",
      "156/156 [==============================] - 39s 246ms/step - loss: 0.6761 - accuracy: 0.7535 - val_loss: 1.3270 - val_accuracy: 0.6272\n",
      "Epoch 16/25\n",
      "156/156 [==============================] - 38s 246ms/step - loss: 0.6283 - accuracy: 0.7670 - val_loss: 1.3420 - val_accuracy: 0.6103\n",
      "Epoch 17/25\n",
      "156/156 [==============================] - 38s 243ms/step - loss: 0.5512 - accuracy: 0.7970 - val_loss: 1.3900 - val_accuracy: 0.6522\n",
      "Epoch 18/25\n",
      "156/156 [==============================] - 39s 250ms/step - loss: 0.5529 - accuracy: 0.8036 - val_loss: 1.1976 - val_accuracy: 0.6820\n",
      "Epoch 19/25\n",
      "156/156 [==============================] - 60s 384ms/step - loss: 0.4646 - accuracy: 0.8352 - val_loss: 1.3757 - val_accuracy: 0.6812\n",
      "Epoch 20/25\n",
      "156/156 [==============================] - 40s 252ms/step - loss: 0.4425 - accuracy: 0.8431 - val_loss: 1.3367 - val_accuracy: 0.6981\n",
      "Epoch 21/25\n",
      "156/156 [==============================] - 54s 347ms/step - loss: 0.3955 - accuracy: 0.8638 - val_loss: 1.3571 - val_accuracy: 0.6868\n",
      "Epoch 22/25\n",
      "156/156 [==============================] - 49s 314ms/step - loss: 0.3869 - accuracy: 0.8650 - val_loss: 1.2952 - val_accuracy: 0.7126\n",
      "Epoch 23/25\n",
      "156/156 [==============================] - 49s 316ms/step - loss: 0.3505 - accuracy: 0.8769 - val_loss: 1.4455 - val_accuracy: 0.6892\n",
      "Epoch 24/25\n",
      "156/156 [==============================] - 53s 337ms/step - loss: 0.3393 - accuracy: 0.8823 - val_loss: 1.4983 - val_accuracy: 0.6948\n",
      "Epoch 25/25\n",
      "156/156 [==============================] - 48s 307ms/step - loss: 0.3274 - accuracy: 0.8911 - val_loss: 1.4842 - val_accuracy: 0.7166\n"
     ]
    }
   ],
   "source": [
    "history = model.fit(\n",
    "    train_ds,  # Training dataset\n",
    "    validation_data=val_ds,  # Validation dataset\n",
    "    epochs=25,  # Number of epochs (you can adjust this)\n",
    "    batch_size=32  # Batch size (this is already set in the dataset loader)\n",
    ")"
   ]
  },
  {
   "cell_type": "code",
   "execution_count": 5,
   "metadata": {},
   "outputs": [
    {
     "name": "stdout",
     "output_type": "stream",
     "text": [
      "39/39 [==============================] - 3s 66ms/step - loss: 1.4842 - accuracy: 0.7166\n",
      "Validation Accuracy: 71.66%\n"
     ]
    }
   ],
   "source": [
    "loss, accuracy = model.evaluate(val_ds)\n",
    "print(f\"Validation Accuracy: {accuracy*100:.2f}%\")"
   ]
  }
 ],
 "metadata": {
  "kernelspec": {
   "display_name": "newenv",
   "language": "python",
   "name": "python3"
  },
  "language_info": {
   "codemirror_mode": {
    "name": "ipython",
    "version": 3
   },
   "file_extension": ".py",
   "mimetype": "text/x-python",
   "name": "python",
   "nbconvert_exporter": "python",
   "pygments_lexer": "ipython3",
   "version": "3.9.18"
  }
 },
 "nbformat": 4,
 "nbformat_minor": 2
}
